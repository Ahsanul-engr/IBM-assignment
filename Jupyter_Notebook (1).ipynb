{
 "cells": [
  {
   "cell_type": "markdown",
   "metadata": {},
   "source": [
    "# Data Science Tools and Ecosystem"
   ]
  },
  {
   "cell_type": "markdown",
   "metadata": {},
   "source": [
    "In this notebook, Data Science Tools and Ecosystem are summarized."
   ]
  },
  {
   "cell_type": "markdown",
   "metadata": {},
   "source": [
    "# Some of the popular languages that Data Scientists use are"
   ]
  },
  {
   "cell_type": "code",
   "execution_count": 9,
   "metadata": {},
   "outputs": [
    {
     "name": "stdout",
     "output_type": "stream",
     "text": [
      "Some of the popular languages that Data Scientists use are:\n",
      "1. Python\n",
      "2. R\n",
      "3. SQL\n",
      "4. Java\n",
      "5. SAS\n",
      "6. Scala\n"
     ]
    }
   ],
   "source": [
    "print(\"Some of the popular languages that Data Scientists use are:\")\n",
    "\n",
    "languages = ['Python', 'R', 'SQL', 'Java', 'SAS', 'Scala']\n",
    "\n",
    "for i, language in enumerate(languages):\n",
    "    print(f\"{i+1}. {language}\")"
   ]
  },
  {
   "cell_type": "markdown",
   "metadata": {},
   "source": [
    "# Some of the commonly used libraries used by Data Scientists include:"
   ]
  },
  {
   "cell_type": "code",
   "execution_count": 10,
   "metadata": {},
   "outputs": [
    {
     "name": "stdout",
     "output_type": "stream",
     "text": [
      "Some of the commonly used libraries used by Data Scientists include:\n",
      "1. NumPy\n",
      "2. Pandas\n",
      "3. Matplotlib\n",
      "4. Seaborn\n",
      "5. Scikit-learn\n",
      "6. TensorFlow\n",
      "7. PyTorch\n"
     ]
    }
   ],
   "source": [
    "libraries = ['NumPy', 'Pandas', 'Matplotlib', 'Seaborn', 'Scikit-learn', 'TensorFlow', 'PyTorch']\n",
    "\n",
    "print(\"Some of the commonly used libraries used by Data Scientists include:\")\n",
    "for i, library in enumerate(libraries):\n",
    "    print(f\"{i+1}. {library}\")\n"
   ]
  },
  {
   "cell_type": "markdown",
   "metadata": {},
   "source": [
    "# Data Science Tools"
   ]
  },
  {
   "cell_type": "code",
   "execution_count": 11,
   "metadata": {},
   "outputs": [
    {
     "data": {
      "text/html": [
       "<table><tr><td>Data Science Tools</td></tr><tr><td>Jupyter Notebook</td></tr><tr><td>Spyder</td></tr><tr><td>RStudio</td></tr></table>"
      ],
      "text/plain": [
       "<IPython.core.display.HTML object>"
      ]
     },
     "execution_count": 11,
     "metadata": {},
     "output_type": "execute_result"
    }
   ],
   "source": [
    "from IPython.display import HTML\n",
    "\n",
    "data = [['Data Science Tools'],\n",
    "        ['Jupyter Notebook'],\n",
    "        ['Spyder'],\n",
    "        ['RStudio']]\n",
    "\n",
    "table = \"<table>\"\n",
    "for row in data:\n",
    "    table += \"<tr>\"\n",
    "    for item in row:\n",
    "        table += \"<td>\" + str(item) + \"</td>\"\n",
    "    table += \"</tr>\"\n",
    "table += \"</table>\"\n",
    "\n",
    "HTML(table)\n"
   ]
  },
  {
   "cell_type": "markdown",
   "metadata": {},
   "source": [
    "### Below are a few examples of evaluating arithmetic expressions in Python"
   ]
  },
  {
   "cell_type": "code",
   "execution_count": 13,
   "metadata": {},
   "outputs": [
    {
     "name": "stdout",
     "output_type": "stream",
     "text": [
      "8\n",
      "3\n",
      "8\n",
      "4.0\n"
     ]
    }
   ],
   "source": [
    "# Addition\n",
    "result = 3 + 5\n",
    "print(result)   # Output: 8\n",
    "\n",
    "# Subtraction\n",
    "result = 10 - 7\n",
    "print(result)   # Output: 3\n",
    "\n",
    "# Multiplication\n",
    "result = 2 * 4\n",
    "print(result)   # Output: 8\n",
    "\n",
    "# Division\n",
    "result = 20 / 5\n",
    "print(result)   # Output: 4.0\n"
   ]
  },
  {
   "cell_type": "markdown",
   "metadata": {},
   "source": [
    "# This a simple arithmetic expression to mutiply then add integers"
   ]
  },
  {
   "cell_type": "code",
   "execution_count": 14,
   "metadata": {},
   "outputs": [
    {
     "name": "stdout",
     "output_type": "stream",
     "text": [
      "17\n"
     ]
    }
   ],
   "source": [
    "# Multiply 3 by 4 and add 5 to the product\n",
    "result = (3*4)+5\n",
    "print(result)   # Output: 17\n"
   ]
  },
  {
   "cell_type": "code",
   "execution_count": 15,
   "metadata": {},
   "outputs": [
    {
     "name": "stdout",
     "output_type": "stream",
     "text": [
      "3.3333333333333335\n"
     ]
    }
   ],
   "source": [
    "# This will convert 200 minutes to hours by diving by 60\n",
    "hours = 200 / 60\n",
    "print(hours)   # Output: 3.3333333333333335\n"
   ]
  },
  {
   "cell_type": "markdown",
   "metadata": {},
   "source": [
    "## Objectives:\n",
    "\n",
    "- List popular languages for Data Science\n",
    "- Demonstrate basic arithmetic operations in Python\n",
    "- Use variables to store and manipulate data in Python\n",
    "- Discuss conditional statements and loops in Python\n",
    "- Introduce Python libraries for scientific computing and data analysis (e.g. NumPy, Pandas, Matplotlib)\n"
   ]
  },
  {
   "cell_type": "markdown",
   "metadata": {},
   "source": [
    "## Author\n",
    "\n",
    "Akash\n"
   ]
  },
  {
   "cell_type": "code",
   "execution_count": null,
   "metadata": {},
   "outputs": [],
   "source": []
  }
 ],
 "metadata": {
  "kernelspec": {
   "display_name": "Python",
   "language": "python",
   "name": "conda-env-python-py"
  },
  "language_info": {
   "codemirror_mode": {
    "name": "ipython",
    "version": 3
   },
   "file_extension": ".py",
   "mimetype": "text/x-python",
   "name": "python",
   "nbconvert_exporter": "python",
   "pygments_lexer": "ipython3",
   "version": "3.7.12"
  }
 },
 "nbformat": 4,
 "nbformat_minor": 4
}
